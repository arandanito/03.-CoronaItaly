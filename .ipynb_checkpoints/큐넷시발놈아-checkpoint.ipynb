{
 "cells": [
  {
   "cell_type": "code",
   "execution_count": 1,
   "metadata": {},
   "outputs": [],
   "source": [
    "from selenium import webdriver\n",
    "import time\n",
    "import winsound"
   ]
  },
  {
   "cell_type": "code",
   "execution_count": 2,
   "metadata": {},
   "outputs": [],
   "source": [
    "driver = webdriver.Chrome(\"./chromedriver\")\n",
    "driver.get('http://www.q-net.or.kr/man001.do?id=man00103&gSite=Q&gId=&login=Y')"
   ]
  },
  {
   "cell_type": "code",
   "execution_count": 3,
   "metadata": {},
   "outputs": [],
   "source": [
    "id1 = driver.find_element_by_xpath('//*[@id=\"mem_id\"]')\n",
    "pass1 = driver.find_element_by_xpath('//*[@id=\"mem_pswd\"]')\n",
    "id1.send_keys('sm20842')\n",
    "time.sleep(1)\n",
    "pass1.send_keys('Bb71714008!')\n",
    "time.sleep(1)\n",
    "confirm = driver.find_element_by_xpath('//*[@id=\"loginForm\"]/div/div[2]/div[1]/div[2]/button/span')\n",
    "confirm.click()"
   ]
  },
  {
   "cell_type": "code",
   "execution_count": 4,
   "metadata": {},
   "outputs": [],
   "source": [
    "confirm = driver.find_element_by_xpath('//*[@id=\"lnkMoveToMypage\"]')\n",
    "confirm.click()\n"
   ]
  },
  {
   "cell_type": "code",
   "execution_count": 5,
   "metadata": {},
   "outputs": [],
   "source": [
    "\n",
    "\n",
    "confirm = driver.find_element_by_xpath('//*[@id=\"content\"]/div[6]/div[4]/button[4]/span')\n",
    "confirm.click()\n"
   ]
  },
  {
   "cell_type": "code",
   "execution_count": 6,
   "metadata": {},
   "outputs": [],
   "source": [
    "\n",
    "\n",
    "confirm = driver.find_element_by_xpath('//*[@id=\"content\"]/div[2]/form/div[2]/a/span')\n",
    "confirm.click()\n"
   ]
  },
  {
   "cell_type": "code",
   "execution_count": 8,
   "metadata": {},
   "outputs": [],
   "source": [
    "\n",
    "\n",
    "confirm = driver.find_element_by_xpath('//*[@id=\"content\"]/div[2]/form[1]/div/span[3]/button')\n",
    "\n",
    "\n",
    "confirm.click()"
   ]
  },
  {
   "cell_type": "code",
   "execution_count": null,
   "metadata": {
    "scrolled": true
   },
   "outputs": [
    {
     "name": "stdout",
     "output_type": "stream",
     "text": [
      "마감\n",
      "불광중학교(주차협소)\n",
      "마감\n",
      "불광중학교(주차협소)\n",
      "마감\n",
      "불광중학교(주차협소)\n",
      "마감\n",
      "불광중학교(주차협소)\n",
      "마감\n",
      "불광중학교(주차협소)\n",
      "마감\n",
      "불광중학교(주차협소)\n",
      "마감\n",
      "불광중학교(주차협소)\n",
      "마감\n",
      "불광중학교(주차협소)\n",
      "마감\n",
      "불광중학교(주차협소)\n",
      "마감\n",
      "불광중학교(주차협소)\n",
      "마감\n",
      "불광중학교(주차협소)\n",
      "마감\n",
      "불광중학교(주차협소)\n",
      "마감\n",
      "불광중학교(주차협소)\n",
      "마감\n",
      "불광중학교(주차협소)\n",
      "마감\n",
      "불광중학교(주차협소)\n",
      "마감\n",
      "불광중학교(주차협소)\n",
      "마감\n",
      "불광중학교(주차협소)\n",
      "마감\n",
      "불광중학교(주차협소)\n",
      "마감\n",
      "불광중학교(주차협소)\n",
      "마감\n",
      "불광중학교(주차협소)\n",
      "마감\n",
      "불광중학교(주차협소)\n",
      "마감\n",
      "불광중학교(주차협소)\n",
      "마감\n",
      "불광중학교(주차협소)\n",
      "마감\n",
      "불광중학교(주차협소)\n",
      "마감\n",
      "불광중학교(주차협소)\n",
      "마감\n",
      "불광중학교(주차협소)\n",
      "마감\n",
      "불광중학교(주차협소)\n",
      "마감\n",
      "불광중학교(주차협소)\n",
      "마감\n",
      "불광중학교(주차협소)\n",
      "마감\n",
      "불광중학교(주차협소)\n",
      "마감\n",
      "불광중학교(주차협소)\n",
      "마감\n",
      "불광중학교(주차협소)\n",
      "마감\n",
      "불광중학교(주차협소)\n",
      "마감\n",
      "불광중학교(주차협소)\n",
      "마감\n",
      "불광중학교(주차협소)\n",
      "마감\n",
      "불광중학교(주차협소)\n",
      "마감\n",
      "불광중학교(주차협소)\n",
      "마감\n",
      "불광중학교(주차협소)\n",
      "마감\n",
      "불광중학교(주차협소)\n",
      "마감\n",
      "불광중학교(주차협소)\n",
      "마감\n",
      "불광중학교(주차협소)\n",
      "마감\n",
      "불광중학교(주차협소)\n",
      "마감\n",
      "불광중학교(주차협소)\n",
      "마감\n",
      "불광중학교(주차협소)\n",
      "마감\n",
      "불광중학교(주차협소)\n"
     ]
    }
   ],
   "source": [
    "while True:\n",
    "    try:\n",
    "        if driver.find_element_by_xpath('//*[@id=\"DIV1\"]/div/table/tbody/tr[1]/td[6]').text != '마감':\n",
    "            print(\"ok\")\n",
    "            winsound.Beep(700,1000)\n",
    "\n",
    "            if driver.find_element_by_xpath('//*[@id=\"DIV1\"]/div/table/tbody/tr[1]/td[5]/p/span').text =='유한공업고등학교(주차협소(우천시절대불가))'| driver.find_element_by_xpath('//*[@id=\"DIV1\"]/div/table/tbody/tr[1]/td[5]/p/span').text =='오남중학교(주차절대불가)'| driver.find_element_by_xpath('//*[@id=\"DIV1\"]/div/table/tbody/tr[1]/td[5]/p/span').text =='구로중학교(주차불가)':\n",
    "                print(\"ok\")\n",
    "                winsound.Beep(700,500)\n",
    "                pay = driver.find_element_by_xpath('//*[@id=\"tr_0\"]/span')\n",
    "                pay.click()\n",
    "                break\n",
    "            else:\n",
    "                pass\n",
    "\n",
    "        else:\n",
    "            print(\"마감\")\n",
    "            school = driver.find_element_by_xpath('//*[@id=\"DIV1\"]/div/table/tbody/tr[1]/td[5]/p/span')\n",
    "            print(school.text)\n",
    "            confirm = driver.find_element_by_xpath('//*[@id=\"content\"]/div[2]/form[1]/div/span[3]/button')\n",
    "            confirm.click()\n",
    "            time.sleep(1)\n",
    "\n",
    "    \n",
    "#     except (NoSuchElementException):\n",
    "#         time.sleep(2)\n",
    "#         pass\n",
    "    \n",
    "            \n",
    "    except:\n",
    "        extend = driver.find_element_by_xpath('//*[@id=\"ext_time\"]/div/div[3]/button[1]/span')\n",
    "        extend.click()\n",
    "        time.sleep(2)\n",
    "        winsound.Beep(700,1000)\n",
    "\n",
    "        pass\n",
    "    \n",
    "        \n"
   ]
  },
  {
   "cell_type": "code",
   "execution_count": null,
   "metadata": {},
   "outputs": [],
   "source": []
  }
 ],
 "metadata": {
  "kernelspec": {
   "display_name": "Python 3",
   "language": "python",
   "name": "python3"
  },
  "language_info": {
   "codemirror_mode": {
    "name": "ipython",
    "version": 3
   },
   "file_extension": ".py",
   "mimetype": "text/x-python",
   "name": "python",
   "nbconvert_exporter": "python",
   "pygments_lexer": "ipython3",
   "version": "3.7.4"
  }
 },
 "nbformat": 4,
 "nbformat_minor": 2
}
